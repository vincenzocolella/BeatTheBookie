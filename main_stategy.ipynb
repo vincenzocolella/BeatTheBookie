{
 "cells": [
  {
   "cell_type": "code",
   "execution_count": 1,
   "metadata": {},
   "outputs": [
    {
     "name": "stdout",
     "output_type": "stream",
     "text": [
      "Reading completed. Total rows 479440\n"
     ]
    }
   ],
   "source": [
    "import numpy as np\n",
    "import pandas as pd\n",
    "import matplotlib as mpl\n",
    "import matplotlib\n",
    "import matplotlib.pyplot as plt\n",
    "%matplotlib inline\n",
    "\n",
    "data = pd.read_csv('C:/Users/vince/Documents/GitHub/BeatTheBookie/sql/closing_odds.csv.gz', compression='gzip', sep=',', quotechar='\"')\n",
    "print('Reading completed. Total rows {}'.format(len(data)))\n",
    "#data.info()"
   ]
  },
  {
   "cell_type": "code",
   "execution_count": 6,
   "metadata": {},
   "outputs": [
    {
     "name": "stdout",
     "output_type": "stream",
     "text": [
      "Forks detection complete\n",
      "Number of successful forks: 6136\n",
      "Random successful forks:\n",
      "        match_id                       league  match_date       home_team  \\\n",
      "327967    675954               Italy: Serie A  2013-04-27        Atalanta   \n",
      "226328    549239  Argentina: Primera Division  2011-10-03  Colon Santa FE   \n",
      "453744    842122      Armenia: Premier League  2015-03-01  Ararat Yerevan   \n",
      "398749    768969       Spain: Superliga Women  2014-04-27        Huelva W   \n",
      "155928    440722      Portugal: Primeira Liga  2010-04-05           Naval   \n",
      "\n",
      "        home_score         away_team  away_score  avg_odds_home_win  \\\n",
      "327967           1           Bologna           1             2.7222   \n",
      "226328           1  Estudiantes L.P.           1             2.6418   \n",
      "453744           2     Shirak Gyumri           4             3.6425   \n",
      "398749           2       Barcelona W           1             7.6240   \n",
      "155928           2           Benfica           4             8.5807   \n",
      "\n",
      "        avg_odds_draw  avg_odds_away_win  ...  top_bookie_draw  \\\n",
      "327967         2.3289             3.7248  ...           Betway   \n",
      "226328         3.0500             2.6100  ...  Pinnacle Sports   \n",
      "453744         3.4660             1.9020  ...           Tipico   \n",
      "398749         5.5100             1.2673  ...           bet365   \n",
      "155928         4.4441             1.6370  ...            12BET   \n",
      "\n",
      "        top_bookie_away_win  n_odds_home_win n_odds_draw n_odds_away_win  \\\n",
      "327967          bet-at-home               27          27              27   \n",
      "226328                Coral               28          28              28   \n",
      "453744               Tipico               20          20              20   \n",
      "398749              Jetbull               15          15              15   \n",
      "155928                 bwin               27          27              27   \n",
      "\n",
      "       min_ch_home  min_ch_draw  min_ch_away  sum_min_chances  fork  \n",
      "327967    0.347222     0.338983     0.250000         0.936205     1  \n",
      "226328    0.327869     0.308642     0.312500         0.949011     1  \n",
      "453744    0.250000     0.222222     0.277778         0.750000     1  \n",
      "398749    0.111111     0.166667     0.606061         0.883838     1  \n",
      "155928    0.093197     0.196464     0.105263         0.394923     1  \n",
      "\n",
      "[5 rows x 24 columns]\n"
     ]
    }
   ],
   "source": [
    "#round((1/ data[['max_odds_home_win',]]).sum(axis=1).sort_values(),1).value_counts().sort_index()\n",
    "\n",
    "# CONSENCUS PROBABILITY\n",
    "\n",
    "# 1. MINIMUM CHANCE\n",
    "data['min_ch_home'] = 1 / data.max_odds_home_win\n",
    "data['min_ch_draw'] = 1 / data.max_odds_draw\n",
    "data['min_ch_away'] = 1 / data.max_odds_away_win\n",
    "\n",
    "#sum\n",
    "data['sum_min_chances'] = data.min_ch_home + data.min_ch_draw + data.min_ch_away\n",
    "\n",
    "\n",
    "# 2. DETECT FORKS\n",
    "\n",
    "def fork(row):\n",
    "    if min(row['n_odds_home_win'],row['n_odds_draw'],row['n_odds_away_win']) < 5:\n",
    "        return 0\n",
    "    elif row['sum_min_chances'] > 0.95: #era 1 \n",
    "        return 0\n",
    "    else:\n",
    "        return 1\n",
    "\n",
    "data['fork'] = data.apply(fork,axis = 1)\n",
    "print('Forks detection complete')\n",
    "\n",
    "num_successful_forks = sum(data['fork'])\n",
    "print(f'Number of successful forks: {num_successful_forks}')\n",
    "\n",
    "successful_forks = data[data['fork'] == 1]\n",
    "random_forks = successful_forks.sample(n=5, random_state=42)\n",
    "\n",
    "print('Random successful forks:')\n",
    "print(random_forks)\n",
    "\n",
    "with open('random_forks.txt', 'w') as file:\n",
    "    file.write('Random successful forks:\\n\\n')\n",
    "    random_forks.to_csv(file, sep='\\t', index=False)\n",
    "\n",
    "\n",
    "# 3. CONCENSUS PROBABILITY\n",
    "#actually, we don't need this probability that much. but it will help us to make better split between wins bets\n",
    "#data['p_cons_home'] = 1 / data.avg_odds_home_win\n",
    "#data['p_cons_draw'] = 1 / data.avg_odds_draw\n",
    "#data['p_cons_away'] = 1 / data.avg_odds_away_win\n",
    "#data['p_cons_sum'] = data.p_cons_home + data.p_cons_draw + data.p_cons_away"
   ]
  },
  {
   "cell_type": "code",
   "execution_count": 45,
   "metadata": {},
   "outputs": [],
   "source": [
    "# YOUR BET\n",
    "\n",
    "data['bet_home'] = 100 * data['min_ch_home'] / data['sum_min_chances']\n",
    "data['bet_draw'] = 100 * data['min_ch_draw'] / data['sum_min_chances']\n",
    "data['bet_away'] = 100 * data['min_ch_away'] / data['sum_min_chances']\n",
    "data['sum_bet'] = data.bet_home + data.bet_draw + data.bet_away\n",
    "\n",
    "#WINNER DETECTION\n",
    "\n",
    "def winner(row):\n",
    "    if row['home_score'] > row['away_score']: return 1\n",
    "    elif row['home_score'] == row['away_score']: return 2\n",
    "    elif row['home_score'] < row['away_score']: return 3\n",
    "    else: return -1\n",
    "    \n",
    "data['REAL_WINNER'] = data.apply(winner, axis = 1) # 1 -home, 2 - draw, 3 - away"
   ]
  },
  {
   "cell_type": "code",
   "execution_count": 46,
   "metadata": {},
   "outputs": [
    {
     "name": "stdout",
     "output_type": "stream",
     "text": [
      "Total Profit: 198859.90403323903\n"
     ]
    }
   ],
   "source": [
    "#forks_df = data[data.fork == 1].copy()\n",
    "\n",
    "#forks_df = forks_df[forks_df.league.str.contains('Ukraine')]\n",
    "\n",
    "def profit(row):\n",
    "    if row['fork'] == 0: return 0\n",
    "    if   row['REAL_WINNER'] == 1: return row['bet_home'] * (row['max_odds_home_win']) - 100\n",
    "    elif row['REAL_WINNER'] == 2: return row['bet_draw'] * (row['max_odds_draw']) - 100\n",
    "    elif row['REAL_WINNER'] == 3: return row['bet_away'] * (row['max_odds_away_win']) - 100\n",
    "    else: return '-1'\n",
    "    \n",
    "# costs are always 100$    \n",
    "data['PROFIT'] = data.apply(profit,axis = 1)\n",
    "\n",
    "#print('Total Profit: {:.0f}\\nTotal Costs: {}'.format(data.PROFIT.sum(), len(data)*100))\n",
    "print('Total Profit: {}'.format(data.PROFIT.sum()))"
   ]
  },
  {
   "cell_type": "code",
   "execution_count": 47,
   "metadata": {},
   "outputs": [
    {
     "data": {
      "text/plain": [
       "[]"
      ]
     },
     "execution_count": 47,
     "metadata": {},
     "output_type": "execute_result"
    },
    {
     "data": {
      "image/png": "[encoded data removed]",
      "text/plain": [
       "<Figure size 432x288 with 1 Axes>"
      ]
     },
     "metadata": {
      "needs_background": "light"
     },
     "output_type": "display_data"
    }
   ],
   "source": [
    "%matplotlib inline\n",
    "#matplotlib.use('TkAgg')\n",
    "\n",
    "# amount of evernts with forks and without forks\n",
    "# based on probability sum\n",
    "fig3, ax3 = plt.subplots()\n",
    "\n",
    "\n",
    "plot_ser = data.sum_min_chances.round(2).value_counts().sort_index().cumsum()\n",
    "plot_ser = plot_ser / plot_ser.max() * 100\n",
    "#fig1 = plt.figure()\n",
    "plot_ser[plot_ser.index <= 1].plot(color = 'green', label = 'you win') # we win\n",
    "plot_ser[plot_ser.index >= 1].plot(color = 'red', label = 'you loose') # we lose\n",
    "plt.xlim(.8,1.2)\n",
    "plt.ylim(0,)\n",
    "plt.xlabel('Probability Sum')\n",
    "plt.ylabel('% of total bets')\n",
    "\n",
    "plt.axvline(x=1, color = 'black', ls = ':', alpha = 0.3)\n",
    "\n",
    "win_line = plot_ser[plot_ser.index <= 1].max().round(2)\n",
    "plt.axhline(y=win_line, color = 'black', ls = ':', alpha = 0.3)\n",
    "\n",
    "plt.text(1.2, 20, ' {:.0f}% of bets with folks'.format(win_line), fontsize=10,horizontalalignment='right', fontstyle = 'italic')\n",
    "plt.title('Cumulative distribution, %')\n",
    "\n",
    "#plt.axhspan(0.25, 70, facecolor='0.5', alpha=0.5)\n",
    "#plt.axvspan(1.25, 50, facecolor='#2ca02c', alpha=0.5)\n",
    "\n",
    "plt.legend()\n",
    "plt.plot()"
   ]
  },
  {
   "cell_type": "code",
   "execution_count": 51,
   "metadata": {},
   "outputs": [
    {
     "data": {
      "text/plain": [
       "Text(0.5, 1.0, 'Distribution of forks by ROI, rounded to int')"
      ]
     },
     "execution_count": 51,
     "metadata": {},
     "output_type": "execute_result"
    },
    {
     "data": {
      "image/png": "[encoded data removed]",
      "text/plain": [
       "<Figure size 432x288 with 1 Axes>"
      ]
     },
     "metadata": {
      "needs_background": "light"
     },
     "output_type": "display_data"
    }
   ],
   "source": [
    "%matplotlib inline\n",
    "fig2 = plt.figure()\n",
    "data[data.fork == 1].PROFIT.round(0).map(int).value_counts().sort_index().plot.bar(color = 'r', alpha = 0.5, width = 1)\n",
    "\n",
    "plt.xlim(0.5,10.5)\n",
    "plt.ylabel('Amount of events')\n",
    "plt.xlabel('Fork ROI, %')\n",
    "plt.title('Distribution of forks by ROI, rounded to int')"
   ]
  },
  {
   "cell_type": "code",
   "execution_count": 49,
   "metadata": {},
   "outputs": [
    {
     "name": "stdout",
     "output_type": "stream",
     "text": [
      "ROI: 2.51, bets: 17507. Profit: 49716.77\n",
      "ROI: 6.46, bets: 4491. Profit: 99432.21\n",
      "ROI: 35.38, bets: 618. Profit: 149174.86\n",
      "ROI: 1458.58, bets: 1. Profit: 198858.41\n"
     ]
    },
    {
     "data": {
      "text/html": [
       "<div>\n",
       "<style scoped>\n",
       "    .dataframe tbody tr th:only-of-type {\n",
       "        vertical-align: middle;\n",
       "    }\n",
       "\n",
       "    .dataframe tbody tr th {\n",
       "        vertical-align: top;\n",
       "    }\n",
       "\n",
       "    .dataframe thead th {\n",
       "        text-align: right;\n",
       "    }\n",
       "</style>\n",
       "<table border=\"1\" class=\"dataframe\">\n",
       "  <thead>\n",
       "    <tr style=\"text-align: right;\">\n",
       "      <th></th>\n",
       "      <th>PROFIT</th>\n",
       "      <th>PROFIT_CUM</th>\n",
       "      <th>ROI</th>\n",
       "      <th>PROCENTILE</th>\n",
       "    </tr>\n",
       "  </thead>\n",
       "  <tbody>\n",
       "    <tr>\n",
       "      <th>0</th>\n",
       "      <td>0.010005</td>\n",
       "      <td>0.01</td>\n",
       "      <td>0.01</td>\n",
       "      <td>0.000005</td>\n",
       "    </tr>\n",
       "    <tr>\n",
       "      <th>1</th>\n",
       "      <td>0.010005</td>\n",
       "      <td>0.02</td>\n",
       "      <td>0.01</td>\n",
       "      <td>0.000010</td>\n",
       "    </tr>\n",
       "    <tr>\n",
       "      <th>2</th>\n",
       "      <td>0.010005</td>\n",
       "      <td>0.03</td>\n",
       "      <td>0.01</td>\n",
       "      <td>0.000015</td>\n",
       "    </tr>\n",
       "  </tbody>\n",
       "</table>\n",
       "</div>"
      ],
      "text/plain": [
       "     PROFIT  PROFIT_CUM   ROI  PROCENTILE\n",
       "0  0.010005        0.01  0.01    0.000005\n",
       "1  0.010005        0.02  0.01    0.000010\n",
       "2  0.010005        0.03  0.01    0.000015"
      ]
     },
     "execution_count": 49,
     "metadata": {},
     "output_type": "execute_result"
    }
   ],
   "source": [
    "######Scenario 1\n",
    "\n",
    "# calculate amount of bets for qurtiles\n",
    "\n",
    "cum_df = data[data.PROFIT > 0.01].PROFIT.sort_values().to_frame()\n",
    "cum_df.reset_index(drop = True, inplace = True)\n",
    "cum_df['PROFIT_CUM'] = cum_df['PROFIT'].cumsum().map(lambda x: round(x, 2))\n",
    "cum_df['ROI'] = cum_df['PROFIT'].map(lambda x: round(x,2))\n",
    "cum_df['PROCENTILE'] = cum_df['PROFIT_CUM'] / cum_df['PROFIT_CUM'].max() * 100\n",
    "\n",
    "perc_dict = dict()\n",
    "for perc in (25, 50 , 75, 100):\n",
    "    temp_df = cum_df[cum_df.PROCENTILE >= perc]\n",
    "    i = temp_df.head(1).index[0]\n",
    "    max_roi = cum_df.loc[i,'ROI']\n",
    "    bets = len(temp_df)\n",
    "    profit = cum_df.loc[i,'PROFIT_CUM']\n",
    "    print('ROI: {}, bets: {}. Profit: {}'.format(max_roi, bets, profit))\n",
    "    perc_dict[perc] = (max_roi, profit)\n",
    "    #print(max_roi)\n",
    "    #print(i, max_roi)\n",
    "#cum_df\n",
    "\n",
    "cum_df.head(3)"
   ]
  },
  {
   "cell_type": "code",
   "execution_count": 52,
   "metadata": {},
   "outputs": [
    {
     "name": "stderr",
     "output_type": "stream",
     "text": [
      "C:\\Users\\vince\\AppData\\Local\\Temp/ipykernel_13012/873948237.py:18: UserWarning: FixedFormatter should only be used together with FixedLocator\n",
      "  ax4.set_xticklabels([str(10**x)+'%' for x in ax4.get_xticks()])\n",
      "C:\\Users\\vince\\AppData\\Local\\Temp/ipykernel_13012/873948237.py:21: UserWarning: FixedFormatter should only be used together with FixedLocator\n",
      "  ax4.set_yticklabels([x // 1000 for x in ax4.get_yticks()])\n"
     ]
    },
    {
     "data": {
      "text/plain": [
       "Text(0.5, 1.0, 'Cumulative Profit vs ROI on logarithm scale')"
      ]
     },
     "execution_count": 52,
     "metadata": {},
     "output_type": "execute_result"
    },
    {
     "data": {
      "image/png": "[encoded data removed]",
      "text/plain": [
       "<Figure size 432x288 with 1 Axes>"
      ]
     },
     "metadata": {
      "needs_background": "light"
     },
     "output_type": "display_data"
    },
    {
     "ename": "",
     "evalue": "",
     "output_type": "error",
     "traceback": [
      "\u001b[1;31mThe Kernel crashed while executing code in the the current cell or a previous cell. Please review the code in the cell(s) to identify a possible cause of the failure. Click <a href='https://aka.ms/vscodeJupyterKernelCrash'>here</a> for more info. View Jupyter <a href='command:jupyter.viewOutput'>log</a> for further details."
     ]
    }
   ],
   "source": [
    "# SCENARIO 2 \n",
    "#fig4, ax = plt.subplots(111)\n",
    "#plt.gca()\n",
    "#fig4 = plt.figure()\n",
    "#.loc[[2.51, 6.46, 35.38, 1458.58]]\n",
    "\n",
    "import math\n",
    "#math.log(100, 10)\n",
    "fig4, ax4 = plt.subplots()\n",
    "plot_df = cum_df.copy()\n",
    "\n",
    "plot_df['ROI'] = plot_df.ROI.map(lambda x: math.log(x, 10))\n",
    "plot_df = plot_df.drop_duplicates('ROI', keep = 'last').set_index('ROI')\n",
    "plot_df.index.name = 'ROI, %'\n",
    "#fig4 = plt.figure()\n",
    "plot_df.PROFIT_CUM.plot(ax = ax4, color = 'green', alpha = 1)\n",
    "\n",
    "ax4.set_xticklabels([str(10**x)+'%' for x in ax4.get_xticks()])\n",
    "ax4.set_ylabel(\"Profit, '000 $\")\n",
    "ax4.set_ylim(0,)\n",
    "ax4.set_yticklabels([x // 1000 for x in ax4.get_yticks()])\n",
    "\n",
    "for p, (roi, pr) in perc_dict.items():\n",
    "    log_x = math.log(roi, 10)\n",
    "    plt.axvline(x= log_x, color = 'black', alpha = 0.1, ls = '--')\n",
    "    plt.axhline(y= pr, color = 'black', alpha = 0.1, ls = '--')\n",
    "#plt.axvline(x=math.log(6.46,10), color = 'black', alpha = 0.3)\n",
    "\n",
    "    plt.text(log_x, pr, '{}P. Roi: {:.1f}%. Profit: {:.0f}k $'.format(p, roi, pr/1000), fontsize=10,horizontalalignment='right', fontstyle = 'italic')\n",
    "\n",
    "#ax4.set_ylim(1000,200000)\n",
    "#ROI: 2.51, bets: 17507. Profit: 49716.77\n",
    "#№ROI: 6.46, bets: 4491. Profit: 99432.21\n",
    "#№ROI: 35.38, bets: 618. Profit: 149174.86\n",
    "#ROI: 1458.58, bets: 1. Profit: 198858.41\n",
    "            \n",
    "plt.title('Cumulative Profit vs ROI on logarithm scale')    \n",
    "\n",
    "#cum_df.ROI.map\n",
    "    \n",
    "#cum_df.loc[[2.51, 6.46, 35.38, 1458.58]]\n",
    "#cum_df"
   ]
  }
 ],
 "metadata": {
  "kernelspec": {
   "display_name": "Python 3",
   "language": "python",
   "name": "python3"
  },
  "language_info": {
   "codemirror_mode": {
    "name": "ipython",
    "version": 3
   },
   "file_extension": ".py",
   "mimetype": "text/x-python",
   "name": "python",
   "nbconvert_exporter": "python",
   "pygments_lexer": "ipython3",
   "version": "3.9.6"
  },
  "orig_nbformat": 4
 },
 "nbformat": 4,
 "nbformat_minor": 2
}
